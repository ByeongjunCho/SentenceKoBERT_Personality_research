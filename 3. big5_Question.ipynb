{
 "cells": [
  {
   "cell_type": "markdown",
   "metadata": {},
   "source": [
    "# BIG5 문장 embedding vector 변환"
   ]
  },
  {
   "cell_type": "markdown",
   "metadata": {},
   "source": [
    "### Model, Tokenizer Load"
   ]
  },
  {
   "cell_type": "code",
   "execution_count": 103,
   "metadata": {},
   "outputs": [],
   "source": [
    "from transformers import AutoTokenizer, AutoModel\n",
    "import torch\n",
    "\n",
    "\n",
    "#Mean Pooling - Take attention mask into account for correct averaging\n",
    "def mean_pooling(model_output, attention_mask):\n",
    "    token_embeddings = model_output[0] #First element of model_output contains all token embeddings\n",
    "    input_mask_expanded = attention_mask.unsqueeze(-1).expand(token_embeddings.size()).float()\n",
    "    sum_embeddings = torch.sum(token_embeddings * input_mask_expanded, 1)\n",
    "    sum_mask = torch.clamp(input_mask_expanded.sum(1), min=1e-9)\n",
    "    return sum_embeddings / sum_mask\n",
    "\n",
    "\n",
    "#Load AutoModel from huggingface model repository\n",
    "tokenizer = AutoTokenizer.from_pretrained(\"sentence-transformers/stsb-xlm-r-multilingual\")\n",
    "model = AutoModel.from_pretrained(\"sentence-transformers/stsb-xlm-r-multilingual\")"
   ]
  },
  {
   "cell_type": "code",
   "execution_count": 104,
   "metadata": {},
   "outputs": [],
   "source": [
    "import pandas as pd\n",
    "f = pd.read_csv('./data/Korean_big5_Question.csv', skiprows=[1], encoding='cp949')"
   ]
  },
  {
   "cell_type": "code",
   "execution_count": 105,
   "metadata": {},
   "outputs": [
    {
     "data": {
      "text/html": [
       "<div>\n",
       "<style scoped>\n",
       "    .dataframe tbody tr th:only-of-type {\n",
       "        vertical-align: middle;\n",
       "    }\n",
       "\n",
       "    .dataframe tbody tr th {\n",
       "        vertical-align: top;\n",
       "    }\n",
       "\n",
       "    .dataframe thead th {\n",
       "        text-align: right;\n",
       "    }\n",
       "</style>\n",
       "<table border=\"1\" class=\"dataframe\">\n",
       "  <thead>\n",
       "    <tr style=\"text-align: right;\">\n",
       "      <th></th>\n",
       "      <th>No.</th>\n",
       "      <th>Question_KO</th>\n",
       "      <th>Question_EN</th>\n",
       "      <th>Facet</th>\n",
       "      <th>Unnamed: 4</th>\n",
       "      <th>is_verified</th>\n",
       "    </tr>\n",
       "  </thead>\n",
       "  <tbody>\n",
       "    <tr>\n",
       "      <th>0</th>\n",
       "      <td>1</td>\n",
       "      <td>나는 다른 사람들에 대해 관심이 있다.</td>\n",
       "      <td>Am interested in people.</td>\n",
       "      <td>A</td>\n",
       "      <td>1</td>\n",
       "      <td>Y</td>\n",
       "    </tr>\n",
       "    <tr>\n",
       "      <th>1</th>\n",
       "      <td>2</td>\n",
       "      <td>나는 다른 사람들의 감정에 잘 공감한다.</td>\n",
       "      <td>Sympathize with others' feelings.</td>\n",
       "      <td>A</td>\n",
       "      <td>1</td>\n",
       "      <td>Y</td>\n",
       "    </tr>\n",
       "    <tr>\n",
       "      <th>2</th>\n",
       "      <td>3</td>\n",
       "      <td>나는 마음이 여린 편이다.</td>\n",
       "      <td>Have a soft heart.</td>\n",
       "      <td>A</td>\n",
       "      <td>1</td>\n",
       "      <td>Y</td>\n",
       "    </tr>\n",
       "    <tr>\n",
       "      <th>3</th>\n",
       "      <td>4</td>\n",
       "      <td>나는 주변 다른 사람들에게 내 시간을 잘 할애하는 편이다.</td>\n",
       "      <td>Take time out for others.</td>\n",
       "      <td>A</td>\n",
       "      <td>1</td>\n",
       "      <td>Y</td>\n",
       "    </tr>\n",
       "    <tr>\n",
       "      <th>4</th>\n",
       "      <td>5</td>\n",
       "      <td>나는 주변 다른 사람들의 감정을 잘 알아차린다.</td>\n",
       "      <td>Feel others' emotions.</td>\n",
       "      <td>A</td>\n",
       "      <td>1</td>\n",
       "      <td>Y</td>\n",
       "    </tr>\n",
       "    <tr>\n",
       "      <th>...</th>\n",
       "      <td>...</td>\n",
       "      <td>...</td>\n",
       "      <td>...</td>\n",
       "      <td>...</td>\n",
       "      <td>...</td>\n",
       "      <td>...</td>\n",
       "    </tr>\n",
       "    <tr>\n",
       "      <th>156</th>\n",
       "      <td>157</td>\n",
       "      <td>미술관에 가는 것을 즐기지 않는다.</td>\n",
       "      <td>Do not enjoy going to art museums.</td>\n",
       "      <td>O</td>\n",
       "      <td>-1</td>\n",
       "      <td>NaN</td>\n",
       "    </tr>\n",
       "    <tr>\n",
       "      <th>157</th>\n",
       "      <td>158</td>\n",
       "      <td>나는 시를 좋아하지 않는다.</td>\n",
       "      <td>Do not like poetry.</td>\n",
       "      <td>O</td>\n",
       "      <td>-1</td>\n",
       "      <td>NaN</td>\n",
       "    </tr>\n",
       "    <tr>\n",
       "      <th>158</th>\n",
       "      <td>159</td>\n",
       "      <td>사물에 있어서 더 깊은 의미를 찾는 일은 드물다고 생각한다.</td>\n",
       "      <td>Rarely look for a deeper meaning in things.</td>\n",
       "      <td>O</td>\n",
       "      <td>-1</td>\n",
       "      <td>NaN</td>\n",
       "    </tr>\n",
       "    <tr>\n",
       "      <th>159</th>\n",
       "      <td>160</td>\n",
       "      <td>너무 많은 세금이 예술가를 지원하는 데 쓰인다고 생각한다.</td>\n",
       "      <td>Believe that too much tax money goes to suppor...</td>\n",
       "      <td>O</td>\n",
       "      <td>-1</td>\n",
       "      <td>NaN</td>\n",
       "    </tr>\n",
       "    <tr>\n",
       "      <th>160</th>\n",
       "      <td>161</td>\n",
       "      <td>나는 이론적인 논의에는 관심이 없다.</td>\n",
       "      <td>Am not interested in theoretical discussions.</td>\n",
       "      <td>O</td>\n",
       "      <td>-1</td>\n",
       "      <td>NaN</td>\n",
       "    </tr>\n",
       "  </tbody>\n",
       "</table>\n",
       "<p>161 rows × 6 columns</p>\n",
       "</div>"
      ],
      "text/plain": [
       "     No.                        Question_KO  \\\n",
       "0      1              나는 다른 사람들에 대해 관심이 있다.   \n",
       "1      2             나는 다른 사람들의 감정에 잘 공감한다.   \n",
       "2      3                     나는 마음이 여린 편이다.   \n",
       "3      4   나는 주변 다른 사람들에게 내 시간을 잘 할애하는 편이다.   \n",
       "4      5         나는 주변 다른 사람들의 감정을 잘 알아차린다.   \n",
       "..   ...                                ...   \n",
       "156  157                미술관에 가는 것을 즐기지 않는다.   \n",
       "157  158                    나는 시를 좋아하지 않는다.   \n",
       "158  159  사물에 있어서 더 깊은 의미를 찾는 일은 드물다고 생각한다.   \n",
       "159  160   너무 많은 세금이 예술가를 지원하는 데 쓰인다고 생각한다.   \n",
       "160  161               나는 이론적인 논의에는 관심이 없다.   \n",
       "\n",
       "                                           Question_EN Facet  Unnamed: 4  \\\n",
       "0                             Am interested in people.     A           1   \n",
       "1                    Sympathize with others' feelings.     A           1   \n",
       "2                                   Have a soft heart.     A           1   \n",
       "3                            Take time out for others.     A           1   \n",
       "4                               Feel others' emotions.     A           1   \n",
       "..                                                 ...   ...         ...   \n",
       "156                 Do not enjoy going to art museums.     O          -1   \n",
       "157                                Do not like poetry.     O          -1   \n",
       "158        Rarely look for a deeper meaning in things.     O          -1   \n",
       "159  Believe that too much tax money goes to suppor...     O          -1   \n",
       "160      Am not interested in theoretical discussions.     O          -1   \n",
       "\n",
       "    is_verified  \n",
       "0             Y  \n",
       "1             Y  \n",
       "2             Y  \n",
       "3             Y  \n",
       "4             Y  \n",
       "..          ...  \n",
       "156         NaN  \n",
       "157         NaN  \n",
       "158         NaN  \n",
       "159         NaN  \n",
       "160         NaN  \n",
       "\n",
       "[161 rows x 6 columns]"
      ]
     },
     "execution_count": 105,
     "metadata": {},
     "output_type": "execute_result"
    }
   ],
   "source": [
    "f"
   ]
  },
  {
   "cell_type": "code",
   "execution_count": 106,
   "metadata": {},
   "outputs": [
    {
     "data": {
      "text/plain": [
       "Index(['No.', 'Question_KO', 'Question_EN', 'Facet', 'Unnamed: 4',\n",
       "       'is_verified'],\n",
       "      dtype='object')"
      ]
     },
     "execution_count": 106,
     "metadata": {},
     "output_type": "execute_result"
    }
   ],
   "source": [
    "f.columns"
   ]
  },
  {
   "cell_type": "code",
   "execution_count": 107,
   "metadata": {},
   "outputs": [],
   "source": [
    "big5_Q = list(f['Question_KO'])\n",
    "encoded_input = tokenizer(big5_Q, padding=True, truncation=True, max_length=128, return_tensors='pt')\n",
    "with torch.no_grad():\n",
    "    model_output = model(**encoded_input)\n",
    "\n",
    "#Perform pooling. In this case, mean pooling\n",
    "big5_embedding_output = mean_pooling(model_output, encoded_input['attention_mask'])"
   ]
  },
  {
   "cell_type": "code",
   "execution_count": 108,
   "metadata": {},
   "outputs": [],
   "source": [
    "# 가장 유사한 문장을 구해 성향 파악\n",
    "def personality_search(text):\n",
    "    encoded_input = tokenizer([text], padding=True, truncation=True, max_length=128, return_tensors='pt')\n",
    "    with torch.no_grad():\n",
    "        model_output = model(**encoded_input)\n",
    "        \n",
    "    text_embedding_output = mean_pooling(model_output, encoded_input['attention_mask'])\n",
    "    \n",
    "    mymax = 0\n",
    "    myidx = 99999\n",
    "    \n",
    "    cos_sim = torch.nn.CosineSimilarity(dim=0)\n",
    "    for i, val in enumerate(big5_embedding_output):\n",
    "        tmp = cos_sim(text_embedding_output[0], val)\n",
    "        if mymax < tmp:\n",
    "            mymax = tmp\n",
    "            myidx = i\n",
    "#     print(big5_embedding_output[myidx])\n",
    "    print(f'source : {text}, target : {f[\"Question_KO\"][myidx]}, personality : {f[\"Facet\"][myidx]}, flag : {f[\"Unnamed: 4\"][myidx]}, similarity : {mymax:.4f}')\n",
    "    return mymax"
   ]
  },
  {
   "cell_type": "code",
   "execution_count": 101,
   "metadata": {},
   "outputs": [
    {
     "name": "stdout",
     "output_type": "stream",
     "text": [
      "source : 오늘 저녁은 치킨인가, target : 남에게서 물러나고 싶다, personality : E, flag : -1, similarity : 0.8625\n"
     ]
    },
    {
     "data": {
      "text/plain": [
       "tensor(0.8625)"
      ]
     },
     "execution_count": 101,
     "metadata": {},
     "output_type": "execute_result"
    }
   ],
   "source": [
    "personality_search('오늘 저녁은 치킨인가')"
   ]
  },
  {
   "cell_type": "code",
   "execution_count": 102,
   "metadata": {},
   "outputs": [
    {
     "name": "stdout",
     "output_type": "stream",
     "text": [
      "source : 이건 어떻게 되는거야? 오늘 저녁 뭘 먹을까?, target : 남에게서 물러나고 싶다, personality : E, flag : -1, similarity : 0.7748\n"
     ]
    },
    {
     "data": {
      "text/plain": [
       "tensor(0.7748)"
      ]
     },
     "execution_count": 102,
     "metadata": {},
     "output_type": "execute_result"
    }
   ],
   "source": [
    "personality_search('이건 어떻게 되는거야? 오늘 저녁 뭘 먹을까?')"
   ]
  },
  {
   "cell_type": "code",
   "execution_count": 95,
   "metadata": {},
   "outputs": [
    {
     "data": {
      "text/plain": [
       "['▁남', '에게', '서', '▁물', '러', '나', '고', '▁싶다']"
      ]
     },
     "execution_count": 95,
     "metadata": {},
     "output_type": "execute_result"
    }
   ],
   "source": [
    "tokenizer.tokenize('남에게서 물러나고 싶다')"
   ]
  },
  {
   "cell_type": "code",
   "execution_count": 96,
   "metadata": {},
   "outputs": [
    {
     "data": {
      "text/plain": [
       "['▁치', '킨', '은', '▁맛있', '다']"
      ]
     },
     "execution_count": 96,
     "metadata": {},
     "output_type": "execute_result"
    }
   ],
   "source": [
    "tokenizer.tokenize('치킨은 맛있다')"
   ]
  }
 ],
 "metadata": {
  "kernelspec": {
   "display_name": "Python 3",
   "language": "python",
   "name": "python3"
  },
  "language_info": {
   "codemirror_mode": {
    "name": "ipython",
    "version": 3
   },
   "file_extension": ".py",
   "mimetype": "text/x-python",
   "name": "python",
   "nbconvert_exporter": "python",
   "pygments_lexer": "ipython3",
   "version": "3.8.5"
  }
 },
 "nbformat": 4,
 "nbformat_minor": 4
}
